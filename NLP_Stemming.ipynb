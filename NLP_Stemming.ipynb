{
  "nbformat": 4,
  "nbformat_minor": 0,
  "metadata": {
    "colab": {
      "provenance": []
    },
    "kernelspec": {
      "name": "python3",
      "display_name": "Python 3"
    },
    "language_info": {
      "name": "python"
    }
  },
  "cells": [
    {
      "cell_type": "markdown",
      "source": [
        "# Stemming\n",
        "Stemming is a text preprocessing technique used in Natural Language Processing (NLP) to reduce words to their root or base form. The goal of stemming is to treat different variations of a word as the same word by stripping off suffixes or prefixes.\n",
        "Example:\n",
        "Words: \"running\", \"runner\", \"runs\"\n",
        "Stemmed: \"run\"\n"
      ],
      "metadata": {
        "id": "gzc4YBuLD_Bv"
      }
    },
    {
      "cell_type": "markdown",
      "source": [
        "# How Stemming Works:\n",
        "Stemming algorithms, such as the Porter Stemmer or Snowball Stemmer, apply a set of rules to remove common morphological endings from words. For instance:\n",
        "\n",
        "\"playing\" → \"play\"\n",
        "\"played\" → \"play\"\n",
        "\"happily\" → \"happili\" (Note: stemming can sometimes produce non-dictionary words)"
      ],
      "metadata": {
        "id": "IxLuKUwUHoMz"
      }
    },
    {
      "cell_type": "markdown",
      "source": [
        "# Applications of Stemming:\n",
        "Search Engines: Helps in improving search results by treating similar words (like \"connect\", \"connected\", \"connecting\") as the same.\n",
        "Text Classification: Reduces dimensionality by converting words to their base form, improving model efficiency.\n",
        "Information Retrieval: Enhances matching of documents with query terms by normalizing words."
      ],
      "metadata": {
        "id": "o3WThAS4Hx_I"
      }
    },
    {
      "cell_type": "markdown",
      "source": [
        "# Difference from Lemmatization:\n",
        "Stemming often results in non-dictionary words (e.g., \"happily\" → \"happili\").\n",
        "Lemmatization returns the base or dictionary form of a word (e.g., \"happily\" → \"happy\")."
      ],
      "metadata": {
        "id": "Wq0-if41IBIy"
      }
    },
    {
      "cell_type": "markdown",
      "source": [
        "#Lemmatization:\n",
        "Lemmatization is a text preprocessing technique in Natural Language Processing (NLP) that reduces words to their base or dictionary form, known as the \"lemma.\" Unlike stemming, which often simply chops off prefixes or suffixes, lemmatization considers the context and morphological analysis of the word to return a valid word that exists in the language."
      ],
      "metadata": {
        "id": "qTJAd6H7JDt4"
      }
    },
    {
      "cell_type": "markdown",
      "source": [
        "# How Lemmatization Works:\n",
        "Lemmatization algorithms use dictionaries to map various forms of a word to its lemma. The process involves understanding the part of speech (POS) of the word (e.g., whether it's a noun, verb, adjective) and then finding the corresponding lemma.\n",
        "\n",
        "For example:\n",
        "\n",
        "Verbs: \"running\" → \"run\", \"was\" → \"be\"\n",
        "Nouns: \"mice\" → \"mouse\", \"geese\" → \"goose\""
      ],
      "metadata": {
        "id": "CVCfLEZYJDhD"
      }
    },
    {
      "cell_type": "markdown",
      "source": [
        "# Applications of Lemmatization:\n",
        "Text Normalization: Converts words to their standard form, which is helpful in reducing noise in text data.\n",
        "Search Engines: Improves search accuracy by matching queries with documents more effectively.\n",
        "Text Classification: Reduces the number of unique tokens by grouping together words with similar meanings."
      ],
      "metadata": {
        "id": "ezqkIySpJUwp"
      }
    },
    {
      "cell_type": "code",
      "source": [],
      "metadata": {
        "id": "qOr17t5cKA5p"
      },
      "execution_count": null,
      "outputs": []
    },
    {
      "cell_type": "code",
      "source": [
        "# comments on the produt are positive or negative\n"
      ],
      "metadata": {
        "id": "9PzSVprDKBCg"
      },
      "execution_count": null,
      "outputs": []
    },
    {
      "cell_type": "code",
      "source": [
        "words=[\"running\",\"trekking\",\"lemmatization\",\"programming\",\"writes\",\"history\"]"
      ],
      "metadata": {
        "id": "Cd2Gtj-8Yq5Z"
      },
      "execution_count": null,
      "outputs": []
    },
    {
      "cell_type": "code",
      "source": [
        "from nltk.stem import PorterStemmer"
      ],
      "metadata": {
        "id": "B4zZf-MxKBD8"
      },
      "execution_count": null,
      "outputs": []
    },
    {
      "cell_type": "code",
      "source": [
        "stemming=PorterStemmer()"
      ],
      "metadata": {
        "id": "3bFnS-s4KBHx"
      },
      "execution_count": null,
      "outputs": []
    },
    {
      "cell_type": "code",
      "source": [
        "# for words in words:\n",
        "#   print(stemming.stem(words))"
      ],
      "metadata": {
        "colab": {
          "base_uri": "https://localhost:8080/"
        },
        "id": "Doz5q0hJKBJJ",
        "outputId": "032e2a0e-5f72-48ef-e857-621ca90d61da"
      },
      "execution_count": null,
      "outputs": [
        {
          "output_type": "stream",
          "name": "stdout",
          "text": [
            "run\n",
            "trek\n",
            "lemmat\n",
            "program\n",
            "write\n"
          ]
        }
      ]
    },
    {
      "cell_type": "code",
      "source": [
        "for words in words:\n",
        "  print(words+\" --> \"+stemming.stem(words))"
      ],
      "metadata": {
        "colab": {
          "base_uri": "https://localhost:8080/"
        },
        "id": "U2CBXBX7KBM7",
        "outputId": "a9e405e4-d56f-4ece-e741-26aeeecce4f4"
      },
      "execution_count": null,
      "outputs": [
        {
          "output_type": "stream",
          "name": "stdout",
          "text": [
            "running --> run\n",
            "trekking --> trek\n",
            "lemmatization --> lemmat\n",
            "programming --> program\n",
            "writes --> write\n",
            "history --> histori\n"
          ]
        }
      ]
    },
    {
      "cell_type": "code",
      "source": [
        "# see, history --> histori\n",
        "# this is the major disadvantage of stemming --> sometime stemming does not recognize the word properly --. changes it's real meaning"
      ],
      "metadata": {
        "id": "WyOsgFNsZ9t4"
      },
      "execution_count": null,
      "outputs": []
    },
    {
      "cell_type": "code",
      "source": [
        "# Example:\n",
        "stemming.stem(\"organization\")"
      ],
      "metadata": {
        "colab": {
          "base_uri": "https://localhost:8080/",
          "height": 36
        },
        "id": "nU6rXIGGa8Ko",
        "outputId": "67513699-fda7-48ef-b394-9d10727c257f"
      },
      "execution_count": null,
      "outputs": [
        {
          "output_type": "execute_result",
          "data": {
            "text/plain": [
              "'organ'"
            ],
            "application/vnd.google.colaboratory.intrinsic+json": {
              "type": "string"
            }
          },
          "metadata": {},
          "execution_count": 30
        }
      ]
    },
    {
      "cell_type": "markdown",
      "source": [
        "# regexpstemmer\n",
        "basically iy takes a single regular expression and removes any prefix or sufix that matches the expression.\n"
      ],
      "metadata": {
        "id": "73O0KNl38-gb"
      }
    },
    {
      "cell_type": "code",
      "source": [
        "# example:\n",
        "from nltk import RegexpStemmer"
      ],
      "metadata": {
        "id": "yKGumjfmbfrF"
      },
      "execution_count": null,
      "outputs": []
    },
    {
      "cell_type": "code",
      "source": [
        "reg_stemmer=RegexpStemmer('ing$|s$|e$|able$',min=4)"
      ],
      "metadata": {
        "id": "rIQGKQpMVTOA"
      },
      "execution_count": null,
      "outputs": []
    },
    {
      "cell_type": "code",
      "source": [],
      "metadata": {
        "id": "MgZp1x5uVTQ2"
      },
      "execution_count": null,
      "outputs": []
    }
  ]
}